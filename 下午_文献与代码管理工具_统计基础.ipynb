{
 "cells": [
  {
   "cell_type": "markdown",
   "metadata": {},
   "source": [
    "# ** 学习方法 ** #\n",
    "1. 好好上网\n",
    "2. mendeley（文献管理工具）\n",
    "   视频\n",
    "   * 万门，网易，coursera，udacity\n",
    "   * 周志华《机器学习》\n",
    "   * ian goodfellow 《深度学习》\n",
    "   * w.mckinney 《python for data analysis》\n",
    "3. github\n",
    "3. 多用google 国内用csdn（支持向量机的三重境界），国外stackoverflow，知乎\n",
    "\n",
    "# **统计基础 ** #"
   ]
  },
  {
   "cell_type": "markdown",
   "metadata": {},
   "source": [
    "# github"
   ]
  },
  {
   "cell_type": "markdown",
   "metadata": {},
   "source": [
    "工作区，暂存区，代码库"
   ]
  },
  {
   "cell_type": "markdown",
   "metadata": {},
   "source": [
    "## 在本机简历respository， 在命令行中新建一个文件夹，进入文件夹后，使用git init初始化\n",
    "* mkdir mewgame\n",
    "* cd newgame\n",
    "* git init"
   ]
  },
  {
   "cell_type": "code",
   "execution_count": null,
   "metadata": {},
   "outputs": [],
   "source": []
  }
 ],
 "metadata": {
  "kernelspec": {
   "display_name": "Python 3",
   "language": "python",
   "name": "python3"
  },
  "language_info": {
   "codemirror_mode": {
    "name": "ipython",
    "version": 3
   },
   "file_extension": ".py",
   "mimetype": "text/x-python",
   "name": "python",
   "nbconvert_exporter": "python",
   "pygments_lexer": "ipython3",
   "version": "3.6.4"
  }
 },
 "nbformat": 4,
 "nbformat_minor": 2
}
